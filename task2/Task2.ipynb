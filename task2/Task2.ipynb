{
 "cells": [
  {
   "cell_type": "markdown",
   "id": "3ec36338",
   "metadata": {
    "cell_id": "fe7b9bc8-baca-46d1-8094-dc668f85c4c9",
    "deepnote_cell_height": 122,
    "deepnote_cell_type": "markdown"
   },
   "source": [
    "## Task 2: Transformer Encoder Model"
   ]
  },
  {
   "cell_type": "code",
   "execution_count": null,
   "id": "9c76779b",
   "metadata": {
    "cell_id": "00002-42d910d2-97c6-4ad3-b211-5a33181be7c9",
    "deepnote_cell_height": 99,
    "deepnote_cell_type": "code",
    "deepnote_to_be_reexecuted": false,
    "execution_millis": 16,
    "execution_start": 1647006458156,
    "source_hash": "2f19d1f9"
   },
   "outputs": [],
   "source": [
    "%load_ext autoreload\n",
    "%autoreload 2"
   ]
  },
  {
   "cell_type": "code",
   "execution_count": null,
   "id": "84d5d8ac",
   "metadata": {
    "cell_id": "00003-16d1d27e-7e5b-4c0a-acd9-191efb3adc8b",
    "deepnote_cell_height": 135,
    "deepnote_cell_type": "code",
    "deepnote_to_be_reexecuted": false,
    "execution_millis": 3978,
    "execution_start": 1647006467140,
    "source_hash": "465fb797"
   },
   "outputs": [],
   "source": [
    "import torch\n",
    "import test\n",
    "import sts_data\n",
    "from importlib import reload"
   ]
  },
  {
   "cell_type": "code",
   "execution_count": null,
   "id": "03d7e5fb",
   "metadata": {
    "cell_id": "00008-c9bb4e3f-4fa1-4b0d-808f-a642b265ff3a",
    "deepnote_cell_height": 520,
    "deepnote_cell_type": "code",
    "deepnote_to_be_reexecuted": false,
    "execution_millis": 4627,
    "execution_start": 1647006473370,
    "scrolled": true,
    "source_hash": "4cf21dba"
   },
   "outputs": [
    {
     "name": "stderr",
     "output_type": "stream",
     "text": [
      "INFO:root:loading and preprocessing data...\n",
      "INFO:root:reading and preprocessing data completed...\n",
      "INFO:root:creating vocabulary...\n",
      "INFO:torchtext.vocab:Loading vectors from .vector_cache/wiki.simple.vec.pt\n",
      "INFO:root:creating vocabulary completed...\n",
      "INFO:root:creating STSDataset completed...\n",
      "INFO:root:creating dataloaders completed...\n"
     ]
    }
   ],
   "source": [
    "reload(sts_data)\n",
    "from sts_data import STSData\n",
    "\n",
    "columns_mapping = {\n",
    "        \"sent1\": \"sentence_A\",\n",
    "        \"sent2\": \"sentence_B\",\n",
    "        \"label\": \"relatedness_score\",\n",
    "    }\n",
    "dataset_name = \"sick\"\n",
    "sick_data = STSData(\n",
    "    dataset_name=dataset_name,\n",
    "    columns_mapping=columns_mapping,\n",
    "    normalize_labels=True,\n",
    "    normalization_const=5.0,\n",
    ")\n",
    "batch_size = 64\n",
    "sick_dataloaders = sick_data.get_data_loader(batch_size=batch_size)"
   ]
  },
  {
   "cell_type": "code",
   "execution_count": null,
   "id": "267e64f4",
   "metadata": {
    "cell_id": "00011-d75bb57c-1ecb-499b-a2e3-8a8e2a11ad36",
    "deepnote_cell_height": 135,
    "deepnote_cell_type": "code",
    "deepnote_to_be_reexecuted": false,
    "execution_millis": 1234,
    "execution_start": 1647006930133,
    "source_hash": "d4e13df6",
    "tags": []
   },
   "outputs": [],
   "source": [
    "from siamese_lstm_attention import SiameseBiLSTMAttention\n",
    "from train import train_model\n",
    "from tuning import tune_model\n",
    "from test import evaluate_test_set"
   ]
  },
  {
   "cell_type": "code",
   "execution_count": null,
   "id": "6c090177",
   "metadata": {
    "cell_id": "00013-374db555-f597-4c46-92ba-8649ac6e6d3c",
    "deepnote_cell_height": 372.796875,
    "deepnote_cell_type": "code",
    "deepnote_to_be_reexecuted": false,
    "execution_millis": 4686825,
    "execution_start": 1647007041875,
    "output_cleared": false,
    "source_hash": "311fc624",
    "tags": []
   },
   "outputs": [
    {
     "name": "stderr",
     "output_type": "stream",
     "text": [
      "\u001b[32m[I 2022-03-11 13:57:23,144]\u001b[0m A new study created in memory with name: no-name-a6a30359-462b-45aa-9b5d-31b24f8f074f\u001b[0m\n",
      "100%|██████████| 20/20 [13:19<00:00, 39.97s/it]\n",
      "\u001b[32m[I 2022-03-11 14:10:42,691]\u001b[0m Trial 0 finished with value: 0.5669891668969257 and parameters: {'N': 4}. Best is trial 0 with value: 0.5669891668969257.\u001b[0m\n",
      "100%|██████████| 20/20 [17:59<00:00, 53.95s/it]\n",
      "\u001b[32m[I 2022-03-11 14:28:41,908]\u001b[0m Trial 1 finished with value: 0.551887203308708 and parameters: {'N': 6}. Best is trial 0 with value: 0.5669891668969257.\u001b[0m\n",
      "100%|██████████| 20/20 [10:12<00:00, 30.60s/it]\n",
      "\u001b[32m[I 2022-03-11 14:38:54,100]\u001b[0m Trial 2 finished with value: 0.5803525042134443 and parameters: {'N': 3}. Best is trial 2 with value: 0.5803525042134443.\u001b[0m\n",
      "100%|██████████| 20/20 [23:44<00:00, 71.23s/it]\n",
      "\u001b[32m[I 2022-03-11 15:02:39,018]\u001b[0m Trial 3 finished with value: 0.5570875830373602 and parameters: {'N': 8}. Best is trial 2 with value: 0.5803525042134443.\u001b[0m\n",
      "100%|██████████| 20/20 [12:49<00:00, 38.47s/it]\n",
      "\u001b[32m[I 2022-03-11 15:15:28,676]\u001b[0m Trial 4 finished with value: 0.5919576478272952 and parameters: {'N': 4}. Best is trial 4 with value: 0.5919576478272952.\u001b[0m\n",
      "N: 4\n"
     ]
    }
   ],
   "source": [
    "results = tune_model(sick_data, sick_dataloaders)\n",
    "for key, value in results.best_params.items():\n",
    "        print(\"{}: {}\".format(key, value))"
   ]
  },
  {
   "cell_type": "code",
   "execution_count": null,
   "id": "f13d0b7d",
   "metadata": {
    "cell_id": "aac3d123-e7f9-481d-8e48-709bf8caacc4",
    "deepnote_cell_height": 423,
    "deepnote_cell_type": "code",
    "deepnote_to_be_reexecuted": false,
    "execution_millis": 1187,
    "execution_start": 1647011799171,
    "source_hash": "a6386af4",
    "tags": []
   },
   "outputs": [],
   "source": [
    "## here we carry over the selected parameters from Task 1\n",
    "\n",
    "output_size = 1\n",
    "hidden_size = 32\n",
    "vocab_size = len(sick_data.vocab)\n",
    "embedding_size = 300\n",
    "embedding_weights = sick_data.vocab.vectors\n",
    "lstm_layers = 4\n",
    "learning_rate = 1.0\n",
    "fc_hidden_size = 128\n",
    "max_epochs = 20\n",
    "bidirectional = True\n",
    "device = torch.device(\"cuda:0\" if torch.cuda.is_available() else \"cpu\")\n",
    "## self attention config\n",
    "self_attention_config = {\n",
    "    \"hidden_size\": 100,  ## refers to variable 'da' in the ICLR paper\n",
    "    \"output_size\": 10,  ## refers to variable 'r' in the ICLR paper\n",
    "    \"penalty\":0.4,  ## refers to penalty coefficient term in the ICLR paper\n",
    "}\n",
    "encoder_layers = results.best_params['N']"
   ]
  },
  {
   "cell_type": "code",
   "execution_count": null,
   "id": "89882480",
   "metadata": {
    "cell_id": "00012-64e8178d-f85b-4474-bae1-d269cc61ae41",
    "deepnote_cell_height": 387,
    "deepnote_cell_type": "code",
    "deepnote_to_be_reexecuted": false,
    "execution_millis": 233,
    "execution_start": 1647011807385,
    "source_hash": "f932382b"
   },
   "outputs": [],
   "source": [
    "## init siamese lstm\n",
    "siamese_lstm_attention = SiameseBiLSTMAttention(\n",
    "    encoder_layers,\n",
    "    batch_size=batch_size,\n",
    "    output_size=output_size,\n",
    "    hidden_size=hidden_size,\n",
    "    vocab_size=vocab_size,\n",
    "    embedding_size=embedding_size,\n",
    "    embedding_weights=embedding_weights,\n",
    "    lstm_layers=lstm_layers,\n",
    "    self_attention_config=self_attention_config,\n",
    "    fc_hidden_size=fc_hidden_size,\n",
    "    device=device,\n",
    "    bidirectional=bidirectional,\n",
    ")\n",
    "## move model to device\n",
    "siamese_lstm_attention.to(device)\n",
    "optimizer = torch.optim.Adam(params=siamese_lstm_attention.parameters())"
   ]
  },
  {
   "cell_type": "code",
   "execution_count": null,
   "id": "87d2fb88",
   "metadata": {
    "cell_id": "00015-94c644d8-bc78-4b2a-880a-4e0b1ce1ec74",
    "deepnote_cell_height": 899,
    "deepnote_cell_type": "code",
    "deepnote_to_be_reexecuted": false,
    "execution_millis": 794157,
    "execution_start": 1647011811593,
    "source_hash": "3b75f459"
   },
   "outputs": [
    {
     "name": "stderr",
     "output_type": "stream",
     "text": [
      "  0%|          | 0/20 [00:00<?, ?it/s]INFO:root:Epoch 0:\n",
      "INFO:root:Accuracy: 0.001103888090164734 Training Loss: 7.366766929626465\n",
      "INFO:root:Evaluating accuracy on dev set\n",
      "INFO:root:Train loss: 7.366766929626465 - acc: 0.001103888090164734 -- Validation loss: 0.5511758923530579 - acc: 0.031582661854148646\n",
      "  5%|▌         | 1/20 [00:40<12:55, 40.81s/it]INFO:root:Epoch 1:\n",
      "INFO:root:Accuracy: 0.13296299591552482 Training Loss: 4.561308860778809\n",
      "INFO:root:Evaluating accuracy on dev set\n",
      "INFO:root:Train loss: 4.561308860778809 - acc: 0.13296299591552482 -- Validation loss: 0.5034217238426208 - acc: 0.16804986274541814\n",
      " 10%|█         | 2/20 [01:19<12:04, 40.25s/it]INFO:root:Epoch 2:\n",
      "INFO:root:Accuracy: 0.30089416385245066 Training Loss: 4.2091217041015625\n",
      "INFO:root:Evaluating accuracy on dev set\n",
      "INFO:root:new model saved\n",
      "INFO:root:Train loss: 4.2091217041015625 - acc: 0.30089416385245066 -- Validation loss: 0.46320369839668274 - acc: 0.33953204208010485\n",
      " 15%|█▌        | 3/20 [01:59<11:19, 39.99s/it]INFO:root:Epoch 3:\n",
      "INFO:root:Accuracy: 0.5131811778383393 Training Loss: 3.401634454727173\n",
      "INFO:root:Evaluating accuracy on dev set\n",
      "INFO:root:new model saved\n",
      "INFO:root:Train loss: 3.401634454727173 - acc: 0.5131811778383393 -- Validation loss: 0.41671672463417053 - acc: 0.42572066621142246\n",
      " 20%|██        | 4/20 [02:38<10:36, 39.81s/it]INFO:root:Epoch 4:\n",
      "INFO:root:Accuracy: 0.6403089055322727 Training Loss: 2.7774276733398438\n",
      "INFO:root:Evaluating accuracy on dev set\n",
      "INFO:root:new model saved\n",
      "INFO:root:Train loss: 2.7774276733398438 - acc: 0.6403089055322727 -- Validation loss: 0.39420589804649353 - acc: 0.47978592866864234\n",
      " 25%|██▌       | 5/20 [03:18<09:56, 39.76s/it]INFO:root:Epoch 5:\n",
      "INFO:root:Accuracy: 0.7090567973013727 Training Loss: 2.3377676010131836\n",
      "INFO:root:Evaluating accuracy on dev set\n",
      "INFO:root:new model saved\n",
      "INFO:root:Train loss: 2.3377676010131836 - acc: 0.7090567973013727 -- Validation loss: 0.3795832395553589 - acc: 0.5023480187258835\n",
      " 30%|███       | 6/20 [03:57<09:14, 39.63s/it]INFO:root:Epoch 6:\n",
      "INFO:root:Accuracy: 0.7531600930919861 Training Loss: 2.013612747192383\n",
      "INFO:root:Evaluating accuracy on dev set\n",
      "INFO:root:new model saved\n",
      "INFO:root:Train loss: 2.013612747192383 - acc: 0.7531600930919861 -- Validation loss: 0.36312007904052734 - acc: 0.5297581127231193\n",
      " 35%|███▌      | 7/20 [04:36<08:33, 39.50s/it]INFO:root:Epoch 7:\n",
      "INFO:root:Accuracy: 0.8013358123508155 Training Loss: 1.6836241483688354\n",
      "INFO:root:Evaluating accuracy on dev set\n",
      "INFO:root:Train loss: 1.6836241483688354 - acc: 0.8013358123508155 -- Validation loss: 0.3805258274078369 - acc: 0.5150284383124994\n",
      " 40%|████      | 8/20 [05:16<07:53, 39.46s/it]INFO:root:Epoch 8:\n",
      "INFO:root:Accuracy: 0.818300121223651 Training Loss: 1.55275559425354\n",
      "INFO:root:Evaluating accuracy on dev set\n",
      "INFO:root:Train loss: 1.55275559425354 - acc: 0.818300121223651 -- Validation loss: 0.37109988927841187 - acc: 0.5219654275519735\n",
      " 45%|████▌     | 9/20 [05:55<07:14, 39.51s/it]INFO:root:Epoch 9:\n",
      "INFO:root:Accuracy: 0.8420332229742625 Training Loss: 1.3619920015335083\n",
      "INFO:root:Evaluating accuracy on dev set\n",
      "INFO:root:new model saved\n",
      "INFO:root:Train loss: 1.3619920015335083 - acc: 0.8420332229742625 -- Validation loss: 0.3732137382030487 - acc: 0.5311900816149991\n",
      " 50%|█████     | 10/20 [06:34<06:34, 39.44s/it]INFO:root:Epoch 10:\n",
      "INFO:root:Accuracy: 0.8537785628152373 Training Loss: 1.2778189182281494\n",
      "INFO:root:Evaluating accuracy on dev set\n",
      "INFO:root:Train loss: 1.2778189182281494 - acc: 0.8537785628152373 -- Validation loss: 0.39738765358924866 - acc: 0.5016387043247496\n",
      " 55%|█████▌    | 11/20 [07:13<05:53, 39.26s/it]INFO:root:Epoch 11:\n",
      "INFO:root:Accuracy: 0.8756092792951835 Training Loss: 1.0927938222885132\n",
      "INFO:root:Evaluating accuracy on dev set\n",
      "INFO:root:Train loss: 1.0927938222885132 - acc: 0.8756092792951835 -- Validation loss: 0.38876986503601074 - acc: 0.5245120130430314\n",
      " 60%|██████    | 12/20 [07:54<05:18, 39.77s/it]INFO:root:Epoch 12:\n",
      "INFO:root:Accuracy: 0.8768025338489488 Training Loss: 1.0865193605422974\n",
      "INFO:root:Evaluating accuracy on dev set\n",
      "INFO:root:Train loss: 1.0865193605422974 - acc: 0.8768025338489488 -- Validation loss: 0.3816239535808563 - acc: 0.528567660620536\n",
      " 65%|██████▌   | 13/20 [08:39<04:48, 41.22s/it]INFO:root:Epoch 13:\n",
      "INFO:root:Accuracy: 0.881592748170193 Training Loss: 1.0442759990692139\n",
      "INFO:root:Evaluating accuracy on dev set\n",
      "INFO:root:Train loss: 1.0442759990692139 - acc: 0.881592748170193 -- Validation loss: 0.37561559677124023 - acc: 0.5287567229923541\n",
      " 70%|███████   | 14/20 [09:18<04:03, 40.61s/it]INFO:root:Epoch 14:\n",
      "INFO:root:Accuracy: 0.89154354535591 Training Loss: 0.9574002027511597\n",
      "INFO:root:Evaluating accuracy on dev set\n",
      "INFO:root:Train loss: 0.9574002027511597 - acc: 0.89154354535591 -- Validation loss: 0.3991316258907318 - acc: 0.5091386781373146\n",
      " 75%|███████▌  | 15/20 [09:57<03:20, 40.09s/it]INFO:root:Epoch 15:\n",
      "INFO:root:Accuracy: 0.8940314540524277 Training Loss: 0.9397444725036621\n",
      "INFO:root:Evaluating accuracy on dev set\n",
      "INFO:root:Train loss: 0.9397444725036621 - acc: 0.8940314540524277 -- Validation loss: 0.4018644690513611 - acc: 0.5085168416312142\n",
      " 80%|████████  | 16/20 [10:37<02:40, 40.16s/it]INFO:root:Epoch 16:\n",
      "INFO:root:Accuracy: 0.9031124548437667 Training Loss: 0.8617548942565918\n",
      "INFO:root:Evaluating accuracy on dev set\n",
      "INFO:root:new model saved\n",
      "INFO:root:Train loss: 0.8617548942565918 - acc: 0.9031124548437667 -- Validation loss: 0.40235504508018494 - acc: 0.5350768176854078\n",
      " 85%|████████▌ | 17/20 [11:16<01:59, 39.87s/it]INFO:root:Epoch 17:\n",
      "INFO:root:Accuracy: 0.9099476911592028 Training Loss: 0.805349588394165\n",
      "INFO:root:Evaluating accuracy on dev set\n",
      "INFO:root:Train loss: 0.805349588394165 - acc: 0.9099476911592028 -- Validation loss: 0.4133293926715851 - acc: 0.513116530495041\n",
      " 90%|█████████ | 18/20 [11:56<01:19, 39.63s/it]INFO:root:Epoch 18:\n",
      "INFO:root:Accuracy: 0.91613710653355 Training Loss: 0.7571275234222412\n",
      "INFO:root:Evaluating accuracy on dev set\n",
      "INFO:root:Train loss: 0.7571275234222412 - acc: 0.91613710653355 -- Validation loss: 0.42064276337623596 - acc: 0.49935727014482395\n",
      " 95%|█████████▌| 19/20 [12:34<00:39, 39.39s/it]INFO:root:Epoch 19:\n",
      "INFO:root:Accuracy: 0.9163519902904548 Training Loss: 0.7613247036933899\n",
      "INFO:root:Evaluating accuracy on dev set\n",
      "INFO:root:new model saved\n",
      "INFO:root:Train loss: 0.7613247036933899 - acc: 0.9163519902904548 -- Validation loss: 0.3923797011375427 - acc: 0.5375534148126933\n",
      "100%|██████████| 20/20 [13:13<00:00, 39.70s/it]\n"
     ]
    }
   ],
   "source": [
    "tot_val_acc = train_model(\n",
    "    model=siamese_lstm_attention,\n",
    "    optimizer=optimizer,\n",
    "    dataloader=sick_dataloaders,\n",
    "    data=sick_data,\n",
    "    max_epochs=max_epochs,\n",
    "    config_dict={\n",
    "        \"device\": device,\n",
    "        \"model_name\": \"siamese_lstm_attention\",\n",
    "        \"self_attention_config\": self_attention_config,\n",
    "    },\n",
    ")"
   ]
  },
  {
   "cell_type": "code",
   "execution_count": null,
   "id": "8f4be32d",
   "metadata": {
    "cell_id": "00017-cdc1754c-9ed8-4411-8205-4f66021f331f",
    "deepnote_cell_height": 312,
    "deepnote_cell_type": "code",
    "deepnote_to_be_reexecuted": false,
    "execution_millis": 30684,
    "execution_start": 1647012655634,
    "source_hash": "b88876a6"
   },
   "outputs": [
    {
     "name": "stderr",
     "output_type": "stream",
     "text": [
      "INFO:root:Evaluating accuracy on test set\n",
      "Accuracy: 0.5413802089274864 Test Loss: 3.8165409564971924\n"
     ]
    }
   ],
   "source": [
    "siamese_lstm_attention.load_state_dict(torch.load('siamese_lstm_attention.pth'))\n",
    "siamese_lstm_attention.eval()\n",
    "evaluate_test_set(\n",
    "    model=siamese_lstm_attention,\n",
    "    data_loader=sick_dataloaders,\n",
    "    config_dict={\n",
    "        \"device\": device,\n",
    "        \"model_name\": \"siamese_lstm_attention\",\n",
    "        \"self_attention_config\": self_attention_config,\n",
    "    },\n",
    ")"
   ]
  }
 ],
 "metadata": {
  "deepnote": {},
  "deepnote_execution_queue": [],
  "deepnote_notebook_id": "8b08f19d-6d94-4a8b-8705-633dfd246ce8",
  "kernelspec": {
   "display_name": "myenv",
   "language": "python",
   "name": "myenv"
  },
  "language_info": {
   "codemirror_mode": {
    "name": "ipython",
    "version": 3
   },
   "file_extension": ".py",
   "mimetype": "text/x-python",
   "name": "python",
   "nbconvert_exporter": "python",
   "pygments_lexer": "ipython3",
   "version": "3.6.13"
  }
 },
 "nbformat": 4,
 "nbformat_minor": 5
}
